{
 "cells": [
  {
   "cell_type": "markdown",
   "id": "940c6dbc",
   "metadata": {},
   "source": [
    "## TC 5033\n",
    "### Word Embeddings\n",
    "\n",
    "<br>\n",
    "\n",
    "#### Activity 3b: Text Classification using RNNs and AG_NEWS dataset in PyTorch\n",
    "<br>\n",
    "\n",
    "- Objective:\n",
    "    - Understand the basics of Recurrent Neural Networks (RNNs) and their application in text classification.\n",
    "    - Learn how to handle a real-world text dataset, AG_NEWS, in PyTorch.\n",
    "    - Gain hands-on experience in defining, training, and evaluating a text classification model in PyTorch.\n",
    "    \n",
    "<br>\n",
    "\n",
    "- Instructions:\n",
    "    - Data Preparation: Starter code will be provided that loads the AG_NEWS dataset and prepares it for training. Do not modify this part. However, you should be sure to understand it, and comment it, the use of markdown cells is suggested. \n",
    "\n",
    "    - Model Setup: A skeleton code for the RNN model class will be provided. Complete this class and use it to instantiate your model.\n",
    "\n",
    "    - Implementing Accuracy Function: Write a function that takes model predictions and ground truth labels as input and returns the model's accuracy.\n",
    "\n",
    "    - Training Function: Implement a function that performs training on the given model using the AG_NEWS dataset. Your model should achieve an accuracy of at least 80% to get full marks for this part.\n",
    "\n",
    "    - Text Sampling: Write a function that takes a sample text as input and classifies it using your trained model.\n",
    "\n",
    "    - Confusion Matrix: Implement a function to display the confusion matrix for your model on the test data.\n",
    "\n",
    "    - Submission: Submit your completed Jupyter Notebook. Make sure to include a markdown cell at the beginning of the notebook that lists the names of all team members. Teams should consist of 3 to 4 members.\n",
    "    \n",
    "<br>\n",
    "\n",
    "- Evaluation Criteria:\n",
    "\n",
    "    - Correct setup of all the required libraries and modules (10%)\n",
    "    - Code Quality (30%): Your code should be well-organized, clearly commented, and easy to follow. Use also markdown cells for clarity. Comments should be given for all the provided code, this will help you understand its functionality.\n",
    "    \n",
    "   - Functionality (60%): \n",
    "        - All the functions should execute without errors and provide the expected outputs.\n",
    "        - RNN model class (20%)\n",
    "        - Accuracy fucntion (10%)\n",
    "        - Training function (10%)\n",
    "        - Sampling function (10%)\n",
    "        - Confucion matrix (10%)\n",
    "\n",
    "        - The model should achieve at least an 80% accuracy on the AG_NEWS test set for full marks in this criterion.\n"
   ]
  },
  {
   "cell_type": "markdown",
   "id": "4de318da",
   "metadata": {},
   "source": [
    "Dataset\n",
    "\n",
    "https://pytorch.org/text/stable/datasets.html#text-classification\n",
    "\n",
    "https://paperswithcode.com/dataset/ag-news\n"
   ]
  },
  {
   "cell_type": "markdown",
   "id": "4a9801f9",
   "metadata": {},
   "source": [
    "### Import libraries"
   ]
  },
  {
   "cell_type": "code",
   "execution_count": null,
   "id": "54394f53",
   "metadata": {},
   "outputs": [],
   "source": [
    "# conda install -c pytorch torchtext\n",
    "# conda install -c pytorch torchdata\n",
    "# conda install pytorch torchvision torchaudio cudatoolkit=10.2 -c pytorch"
   ]
  },
  {
   "cell_type": "code",
   "execution_count": 42,
   "id": "878b524f",
   "metadata": {},
   "outputs": [],
   "source": [
    "# The following libraries are required for running the given code\n",
    "# Please feel free to add any libraries you consider adecuate to complete the assingment.\n",
    "import numpy as np\n",
    "#PyTorch libraries\n",
    "import torch\n",
    "from torchtext.datasets import AG_NEWS\n",
    "# Dataloader library\n",
    "from torch.utils.data import DataLoader\n",
    "from torch.utils.data.dataset import random_split\n",
    "# Libraries to prepare the data\n",
    "from torchtext.data.utils import get_tokenizer\n",
    "from torchtext.vocab import build_vocab_from_iterator\n",
    "from torchtext.data.functional import to_map_style_dataset\n",
    "# neural layers\n",
    "from torch import nn\n",
    "from torch.nn import functional as F\n",
    "\n",
    "# These libraries are suggested to plot confusion matrix\n",
    "# you may use others\n",
    "import matplotlib.pyplot as plt\n",
    "import scikitplot as skplt\n",
    "#import gc"
   ]
  },
  {
   "cell_type": "code",
   "execution_count": 4,
   "id": "3bab55f3",
   "metadata": {},
   "outputs": [
    {
     "name": "stdout",
     "output_type": "stream",
     "text": [
      "mps\n"
     ]
    }
   ],
   "source": [
    "# Use GPU if available\n",
    "#device = torch.device(\"cuda\" if torch.cuda.is_available() else \"cpu\")\n",
    "device = 'mps' if torch.backends.mps.is_available() else 'cpu'\n",
    "print(device)"
   ]
  },
  {
   "cell_type": "markdown",
   "id": "3d38956d",
   "metadata": {},
   "source": [
    "### Get the train and the test datasets and dataloaders"
   ]
  },
  {
   "cell_type": "markdown",
   "id": "e9c6b784",
   "metadata": {},
   "source": [
    "Classes:\n",
    "\n",
    "* 1 - World\n",
    "\n",
    "* 2 - Sports\n",
    "\n",
    "* 3 - Business\n",
    "\n",
    "* 4 - Sci/Tech\n",
    "\n",
    "We will convert them to:\n",
    "\n",
    "* 0 - World\n",
    "\n",
    "* 1 - Sports\n",
    "\n",
    "* 2 - Business\n",
    "\n",
    "* 3 - Sci/Tech"
   ]
  },
  {
   "cell_type": "code",
   "execution_count": 3,
   "id": "49fbed19",
   "metadata": {},
   "outputs": [],
   "source": [
    "train_dataset, test_dataset = AG_NEWS()\n",
    "train_dataset, test_dataset = to_map_style_dataset(train_dataset), to_map_style_dataset(test_dataset)"
   ]
  },
  {
   "cell_type": "code",
   "execution_count": 5,
   "id": "9c372eb9",
   "metadata": {},
   "outputs": [],
   "source": [
    "# Get the tokeniser\n",
    "# tokeniser object\n",
    "tokeniser = get_tokenizer('basic_english')\n",
    "\n",
    "def yield_tokens(data):\n",
    "    for _, text in data:\n",
    "        yield tokeniser(text)"
   ]
  },
  {
   "cell_type": "code",
   "execution_count": 6,
   "id": "794d0375",
   "metadata": {},
   "outputs": [],
   "source": [
    "# Build the vocabulary\n",
    "vocab = build_vocab_from_iterator(yield_tokens(train_dataset), specials=[\"<unk>\"])\n",
    "#set unknown token at position 0\n",
    "vocab.set_default_index(vocab[\"<unk>\"])"
   ]
  },
  {
   "cell_type": "code",
   "execution_count": 7,
   "id": "b48268d4",
   "metadata": {},
   "outputs": [
    {
     "name": "stdout",
     "output_type": "stream",
     "text": [
      "['welcome', 'to', 'te3007'] [3314, 4, 0]\n"
     ]
    }
   ],
   "source": [
    "#test tokens\n",
    "tokens = tokeniser('Welcome to TE3007')\n",
    "print(tokens, vocab(tokens))"
   ]
  },
  {
   "cell_type": "code",
   "execution_count": 8,
   "id": "c8c8f6a6",
   "metadata": {},
   "outputs": [],
   "source": [
    "NUM_TRAIN = int(len(train_dataset)*0.9)\n",
    "NUM_VAL = len(train_dataset) - NUM_TRAIN"
   ]
  },
  {
   "cell_type": "code",
   "execution_count": 9,
   "id": "8290895e",
   "metadata": {},
   "outputs": [],
   "source": [
    "train_dataset, val_dataset = random_split(train_dataset, [NUM_TRAIN, NUM_VAL])"
   ]
  },
  {
   "cell_type": "code",
   "execution_count": 10,
   "id": "cbc75b54",
   "metadata": {},
   "outputs": [
    {
     "name": "stdout",
     "output_type": "stream",
     "text": [
      "108000 12000 7600\n"
     ]
    }
   ],
   "source": [
    "print(len(train_dataset), len(val_dataset), len(test_dataset))"
   ]
  },
  {
   "cell_type": "code",
   "execution_count": 11,
   "id": "ffdbf077",
   "metadata": {},
   "outputs": [],
   "source": [
    "# function passed to the DataLoader to process a batch of data as indicated\n",
    "def collate_batch(batch):\n",
    "    # Get label and text\n",
    "    y, x = list(zip(*batch))\n",
    "    \n",
    "    # Create list with indices from tokeniser\n",
    "    x = [vocab(tokeniser(text)) for text in x]\n",
    "    x = [t + ([0]*(max_tokens - len(t))) if len(t) < max_tokens else t[:max_tokens] for t in x]\n",
    "\n",
    "    # Prepare the labels, by subtracting 1 to get them in the range 0-3\n",
    "    return torch.tensor(x, dtype=torch.int32), torch.tensor(y, dtype=torch.int32) - 1"
   ]
  },
  {
   "cell_type": "code",
   "execution_count": 12,
   "id": "5eb459c7",
   "metadata": {},
   "outputs": [],
   "source": [
    "labels =  [\"World\", \"Sports\", \"Business\", \"Sci/Tech\"]\n",
    "max_tokens = 50\n",
    "BATCH_SIZE = 256"
   ]
  },
  {
   "cell_type": "code",
   "execution_count": 13,
   "id": "0a55e6ee",
   "metadata": {},
   "outputs": [],
   "source": [
    "train_loader = DataLoader(train_dataset, batch_size=BATCH_SIZE, collate_fn=collate_batch, shuffle = True)\n",
    "val_loader = DataLoader(val_dataset, batch_size=BATCH_SIZE, collate_fn=collate_batch, shuffle = True)\n",
    "test_loader = DataLoader(test_dataset, batch_size=BATCH_SIZE, collate_fn=collate_batch, shuffle = True)"
   ]
  },
  {
   "cell_type": "markdown",
   "id": "47b98898",
   "metadata": {},
   "source": [
    "### Let us build our RNN model"
   ]
  },
  {
   "cell_type": "code",
   "execution_count": 14,
   "id": "50f20793",
   "metadata": {},
   "outputs": [],
   "source": [
    "EMBEDDING_SIZE = 300  \n",
    "NEURONS = 256          \n",
    "LAYERS = 2      \n",
    "NUM_CLASSES = 4     "
   ]
  },
  {
   "cell_type": "code",
   "execution_count": 19,
   "id": "0f7f5621",
   "metadata": {},
   "outputs": [],
   "source": [
    "class RNN_Model_1(nn.Module):\n",
    "    def __init__(self, embed_size, hidden, layers, num_classes):\n",
    "        super().__init__()\n",
    "        self.embedding_layer = nn.Embedding(num_embeddings=len(vocab), \n",
    "                                            embedding_dim=embed_size)\n",
    "        \n",
    "        self.rnn = nn.LSTM(input_size=embed_size,       # Instanciate LSTM model\n",
    "                            hidden_size=hidden,\n",
    "                            num_layers=layers,\n",
    "                            batch_first=True)\n",
    "        \n",
    "        self.fc = nn.Linear(in_features=hidden, \n",
    "                            out_features=num_classes)       # Instanciate fully connected layer\n",
    "        \n",
    "    def forward(self, x):                               # implement forward pass. This function will be called when executing the model\n",
    "        vector_emb = self.embedding_layer(x)            # Get embedding vector\n",
    "        y, h = self.rnn(vector_emb)                     # Pass embedding vector to LSTM model\n",
    "        return self.fc(y[:, -1])                        # Pass last output to fully connected layer\n"
   ]
  },
  {
   "cell_type": "code",
   "execution_count": 20,
   "id": "087f5871",
   "metadata": {},
   "outputs": [
    {
     "data": {
      "text/plain": [
       "RNN_Model_1(\n",
       "  (embedding_layer): Embedding(95811, 300)\n",
       "  (rnn): LSTM(300, 256, num_layers=2, batch_first=True)\n",
       "  (fc): Linear(in_features=256, out_features=4, bias=True)\n",
       ")"
      ]
     },
     "execution_count": 20,
     "metadata": {},
     "output_type": "execute_result"
    }
   ],
   "source": [
    "lstm_model = RNN_Model_1(EMBEDDING_SIZE, NEURONS, LAYERS, NUM_CLASSES)\n",
    "lstm_model"
   ]
  },
  {
   "cell_type": "code",
   "execution_count": 25,
   "id": "2a42613f",
   "metadata": {
    "code_folding": []
   },
   "outputs": [],
   "source": [
    "def accuracy(model, loader):\n",
    "    num_correct = 0\n",
    "    num_samples = 0\n",
    "    model.eval()                            # set model to evaluation mode  \n",
    "    model = model.to(device=device)         # move the model parameters to CPU/GPU\n",
    "    with torch.no_grad():                   # disable gradient calculation\n",
    "        for xi, yi in loader:                           \n",
    "            xi = xi.to(device=device)                   # move to GPU\n",
    "            yi = yi.to(device=device)                   # move to GPU\n",
    "            scores = model(xi)                          # compute scores\n",
    "            _, predictions = scores.max(dim=1)          # find the predicted class\n",
    "            num_correct += (predictions == yi).sum()    # count correctly classified samples\n",
    "            num_samples += predictions.size(0)          # count total number of samples\n",
    "        return float(num_correct)/num_samples           # return accuracy"
   ]
  },
  {
   "cell_type": "code",
   "execution_count": 26,
   "id": "5e843e1f",
   "metadata": {
    "code_folding": []
   },
   "outputs": [],
   "source": [
    "def train(model, optimiser, epochs):\n",
    "    model = model.to(device=device)         # move the model parameters to GPU\n",
    "    for epoch in range(epochs):\n",
    "        for i, (xi, yi) in enumerate(train_loader):\n",
    "            model.train()                           # set model to training mode    \n",
    "            xi = xi.to(device=device)               # move to GPU\n",
    "            yi = yi.to(device=device)               # move to GPU\n",
    "            scores = model(xi)                      # compute scores\n",
    "\n",
    "            cost = F.cross_entropy(input=scores, target=yi)  # compute loss\n",
    "\n",
    "            optimiser.zero_grad()                   # reset gradients\n",
    "            cost.backward()                         # compute gradients\n",
    "            optimiser.step()                        # update parameters \n",
    "        \n",
    "        acc = accuracy(model, val_loader)           # compute accuracy \n",
    "\n",
    "        print(f'Epoch: {epoch+1}, Cost: {cost:.3f}, Accuracy: {acc:.3f}')"
   ]
  },
  {
   "cell_type": "code",
   "execution_count": 27,
   "id": "87775b29",
   "metadata": {},
   "outputs": [],
   "source": [
    "epochs = 20\n",
    "lr = 1e-3\n",
    "# instantiate model\n",
    "rnn_model = RNN_Model_1(EMBEDDING_SIZE, NEURONS, LAYERS, NUM_CLASSES)\n",
    "optimiser = torch.optim.Adam(lstm_model.parameters(), lr=lr)            # instantiate optimiser \n"
   ]
  },
  {
   "cell_type": "code",
   "execution_count": 28,
   "id": "aec12a1b",
   "metadata": {
    "scrolled": true
   },
   "outputs": [
    {
     "name": "stdout",
     "output_type": "stream",
     "text": [
      "Epoch: 1, Cost: 0.300, Accuracy: 0.901\n",
      "Epoch: 2, Cost: 0.136, Accuracy: 0.909\n",
      "Epoch: 3, Cost: 0.128, Accuracy: 0.909\n",
      "Epoch: 4, Cost: 0.061, Accuracy: 0.912\n",
      "Epoch: 5, Cost: 0.073, Accuracy: 0.912\n",
      "Epoch: 6, Cost: 0.064, Accuracy: 0.909\n",
      "Epoch: 7, Cost: 0.057, Accuracy: 0.908\n",
      "Epoch: 8, Cost: 0.017, Accuracy: 0.908\n",
      "Epoch: 9, Cost: 0.024, Accuracy: 0.910\n",
      "Epoch: 10, Cost: 0.012, Accuracy: 0.909\n",
      "Epoch: 11, Cost: 0.013, Accuracy: 0.911\n",
      "Epoch: 12, Cost: 0.004, Accuracy: 0.908\n",
      "Epoch: 13, Cost: 0.009, Accuracy: 0.909\n",
      "Epoch: 14, Cost: 0.004, Accuracy: 0.909\n",
      "Epoch: 15, Cost: 0.005, Accuracy: 0.909\n",
      "Epoch: 16, Cost: 0.064, Accuracy: 0.910\n",
      "Epoch: 17, Cost: 0.027, Accuracy: 0.909\n",
      "Epoch: 18, Cost: 0.009, Accuracy: 0.903\n",
      "Epoch: 19, Cost: 0.028, Accuracy: 0.910\n",
      "Epoch: 20, Cost: 0.017, Accuracy: 0.908\n"
     ]
    }
   ],
   "source": [
    "train(lstm_model, optimiser=optimiser,  epochs=epochs)"
   ]
  },
  {
   "cell_type": "code",
   "execution_count": 29,
   "id": "7a3ef175",
   "metadata": {},
   "outputs": [
    {
     "name": "stdout",
     "output_type": "stream",
     "text": [
      "0.9097\n"
     ]
    }
   ],
   "source": [
    "print(f'{accuracy(lstm_model, test_loader):.4f}')"
   ]
  },
  {
   "cell_type": "code",
   "execution_count": 47,
   "id": "ed30693d",
   "metadata": {},
   "outputs": [],
   "source": [
    "def sample_text(model, loader):\n",
    "    model.eval()                            # set model to evaluation mode  \n",
    "    model = model.to(device=device)         # move the model parameters to CPU/GPU\n",
    "    with torch.no_grad():                   # disable gradient calculation\n",
    "        for xi, yi in loader:                           \n",
    "            xi = xi.to(device=device)                   # move to GPU\n",
    "            yi = yi.to(device=device)                   # move to GPU\n",
    "            scores = model(xi)                          # compute scores\n",
    "            _, predictions = scores.max(dim=1)          # find the predicted class\n",
    "            \n",
    "            print(f'Predicted class: {labels[predictions[0]]}')\n",
    "            print(f'Actual class: {labels[yi[0]]}')\n",
    "            print(f'Text: {vocab.lookup_tokens(xi[0].tolist())}')\n",
    "            break\n",
    "    "
   ]
  },
  {
   "cell_type": "code",
   "execution_count": 49,
   "id": "534f0220",
   "metadata": {},
   "outputs": [
    {
     "name": "stdout",
     "output_type": "stream",
     "text": [
      "Predicted class: World\n",
      "Actual class: World\n",
      "Text: ['australia', 'turns', 'down', 'plea', 'for', 'more', 'troops', 'to', 'protect', 'un', 'staff', 'in', 'iraq', '(', 'afp', ')', 'afp', '-', 'australia', 'has', 'turned', 'down', 'a', 'diplomatic', 'plea', 'for', 'a', 'contribution', 'to', 'a', 'military', 'force', 'to', 'protect', 'united', 'nations', '(', 'un', ')', 'personnel', 'in', 'iraq', '.', '<unk>', '<unk>', '<unk>', '<unk>', '<unk>', '<unk>', '<unk>']\n"
     ]
    }
   ],
   "source": [
    "sample_text(lstm_model, test_loader)"
   ]
  },
  {
   "cell_type": "code",
   "execution_count": 60,
   "id": "bb38e093",
   "metadata": {},
   "outputs": [
    {
     "data": {
      "image/png": "[encoded data removed]",
      "text/plain": [
       "<Figure size 576x576 with 2 Axes>"
      ]
     },
     "metadata": {
      "needs_background": "light"
     },
     "output_type": "display_data"
    }
   ],
   "source": [
    "# create confusion matrix\n",
    "y_true = []\n",
    "y_pred = []\n",
    "with torch.no_grad():\n",
    "    for xi, yi in test_loader:\n",
    "        xi = xi.to(device=device)\n",
    "        yi = yi.to(device=device)\n",
    "        scores = lstm_model(xi)\n",
    "        _, predictions = scores.max(dim=1)\n",
    "        y_true.extend(yi.tolist())\n",
    "        y_pred.extend(predictions.tolist())\n",
    "    \n",
    "# plot confusion matrix\n",
    "skplt.metrics.plot_confusion_matrix(y_true, y_pred, normalize=True, figsize=(8,8))\n",
    "plt.show()\n"
   ]
  },
  {
   "cell_type": "code",
   "execution_count": null,
   "id": "e7d73f69",
   "metadata": {},
   "outputs": [],
   "source": []
  }
 ],
 "metadata": {
  "kernelspec": {
   "display_name": "Python 3 (ipykernel)",
   "language": "python",
   "name": "python3"
  },
  "language_info": {
   "codemirror_mode": {
    "name": "ipython",
    "version": 3
   },
   "file_extension": ".py",
   "mimetype": "text/x-python",
   "name": "python",
   "nbconvert_exporter": "python",
   "pygments_lexer": "ipython3",
   "version": "3.10.1"
  },
  "varInspector": {
   "cols": {
    "lenName": 16,
    "lenType": 16,
    "lenVar": 40
   },
   "kernels_config": {
    "python": {
     "delete_cmd_postfix": "",
     "delete_cmd_prefix": "del ",
     "library": "var_list.py",
     "varRefreshCmd": "print(var_dic_list())"
    },
    "r": {
     "delete_cmd_postfix": ") ",
     "delete_cmd_prefix": "rm(",
     "library": "var_list.r",
     "varRefreshCmd": "cat(var_dic_list()) "
    }
   },
   "types_to_exclude": [
    "module",
    "function",
    "builtin_function_or_method",
    "instance",
    "_Feature"
   ],
   "window_display": false
  }
 },
 "nbformat": 4,
 "nbformat_minor": 5
}
